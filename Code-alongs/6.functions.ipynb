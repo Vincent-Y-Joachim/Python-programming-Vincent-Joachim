{
 "cells": [
  {
   "cell_type": "markdown",
   "source": [
    "# Functions\r\n",
    "\r\n",
    "## Basic functions"
   ],
   "metadata": {}
  },
  {
   "cell_type": "code",
   "execution_count": 9,
   "source": [
    "# funktion without a return value: used math \r\n",
    "def cube(number):\r\n",
    "    return number**3\r\n",
    "\r\n",
    "print(f\"cube(3): {cube(3)}\")\r\n",
    "\r\n",
    "cube5 = cube(5)\r\n",
    "print(cube5)\r\n",
    "\r\n",
    "cubes = [cube(x) for x in range(10)]\r\n",
    "print(cubes)"
   ],
   "outputs": [
    {
     "output_type": "stream",
     "name": "stdout",
     "text": [
      "cube(3): 27\n",
      "125\n",
      "[0, 1, 8, 27, 64, 125, 216, 343, 512, 729]\n"
     ]
    }
   ],
   "metadata": {}
  },
  {
   "cell_type": "code",
   "execution_count": 13,
   "source": [
    "def mean1(num1, num2, num3):\r\n",
    "    mean = (num1 + num2 + num3)/3\r\n",
    "    return mean\r\n",
    "\r\n",
    "print(f\"mean1(1,3,5): {mean1(1,3,5)}\")\r\n",
    "# print(mean) - mean is not defined outside the scope of the function"
   ],
   "outputs": [
    {
     "output_type": "stream",
     "name": "stdout",
     "text": [
      "mean1(1,3,5): 3.0\n"
     ]
    }
   ],
   "metadata": {}
  },
  {
   "cell_type": "code",
   "execution_count": 23,
   "source": [
    "# funktion without a return value \r\n",
    "def say_hi(name, age):\r\n",
    "    print(f\"Hi {name}, you are {age} years old\")\r\n",
    "\r\n",
    "\r\n",
    "say_hi(\"Vincent\", 32)\r\n"
   ],
   "outputs": [
    {
     "output_type": "stream",
     "name": "stdout",
     "text": [
      "Hi Vincent, you are 32 years old\n"
     ]
    }
   ],
   "metadata": {}
  },
  {
   "cell_type": "code",
   "execution_count": 25,
   "source": [
    "# funktion without a return value: with code \r\n",
    "\r\n",
    "def say_hi(name = \"friend\", age=0):\r\n",
    "    print(f\"Hi {name}, you are {age} years old\")\r\n",
    "\r\n",
    "\r\n",
    "say_hi(\"Vincent\", 32) # default values are overwritten by input arguments \r\n",
    "say_hi() #default values are used\r\n",
    "say_hi(age=35) # keyword argument \r\n"
   ],
   "outputs": [
    {
     "output_type": "stream",
     "name": "stdout",
     "text": [
      "Hi Vincent, you are 32 years old\n",
      "Hi friend, you are 0 years old\n",
      "Hi friend, you are 35 years old\n"
     ]
    }
   ],
   "metadata": {}
  },
  {
   "cell_type": "markdown",
   "source": [
    "## Keyword arguments \r\n",
    "- key = value syntax"
   ],
   "metadata": {}
  },
  {
   "cell_type": "code",
   "execution_count": 34,
   "source": [
    "def count_words(text = \"\"): \r\n",
    "    words = text.split()\r\n",
    "    return len(words)\r\n",
    "\r\n",
    "print(count_words(\"I stand on the shoulders of giants - Isaac Newton\"))\r\n",
    "print(count_words())"
   ],
   "outputs": [
    {
     "output_type": "stream",
     "name": "stdout",
     "text": [
      "10\n",
      "0\n"
     ]
    }
   ],
   "metadata": {}
  }
 ],
 "metadata": {
  "orig_nbformat": 4,
  "language_info": {
   "name": "python",
   "version": "3.9.7",
   "mimetype": "text/x-python",
   "codemirror_mode": {
    "name": "ipython",
    "version": 3
   },
   "pygments_lexer": "ipython3",
   "nbconvert_exporter": "python",
   "file_extension": ".py"
  },
  "kernelspec": {
   "name": "python3",
   "display_name": "Python 3.9.7 64-bit ('Python-programming-Vincent-Joachim-BKkJ24Eb': pipenv)"
  },
  "interpreter": {
   "hash": "4404ca5b714758da0b1a48f743492510396e9184205edc8487f2cd102de0b5be"
  }
 },
 "nbformat": 4,
 "nbformat_minor": 2
}