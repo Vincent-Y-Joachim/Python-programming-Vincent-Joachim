{
 "cells": [
  {
   "cell_type": "markdown",
   "source": [],
   "metadata": {}
  },
  {
   "cell_type": "markdown",
   "source": [
    "# Strings \r\n",
    "\r\n",
    "Concateenating strings "
   ],
   "metadata": {}
  },
  {
   "cell_type": "code",
   "execution_count": 11,
   "source": [
    "firstname = \"Vincent\"\r\n",
    "lastname = \"Joachim\" \r\n",
    "\r\n",
    "# concatenating strings\r\n",
    "fullname = firstname + \" \" + lastname\r\n",
    "\r\n",
    "school = \"IT högskolan\"\r\n",
    "adress = \"Ebbe Lierbathsgatan 18C\"\r\n",
    "phone = \"911\"\r\n",
    "\r\n",
    "print(fullname)\r\n",
    "\r\n",
    "# multiline f-string\r\n",
    "contact_details = f\"\"\"\r\n",
    "Name: {fullname}\r\n",
    "School: {school}\r\n",
    "Adress: {adress}\r\n",
    "Phone: {phone}\r\n",
    "\"\"\"\r\n",
    "\r\n",
    "print(contact_details)\r\n"
   ],
   "outputs": [
    {
     "output_type": "stream",
     "name": "stdout",
     "text": [
      "Vincent Joachim\n",
      "\n",
      "Name: Vincent Joachim\n",
      "School: IT högskolan\n",
      "Adress: Ebbe Lierbathsgatan 18C\n",
      "Phone: 911\n",
      "\n"
     ]
    }
   ],
   "metadata": {}
  },
  {
   "cell_type": "markdown",
   "source": [
    "## Concatenate with loop "
   ],
   "metadata": {}
  },
  {
   "cell_type": "code",
   "execution_count": 37,
   "source": [
    "bamba = \"Chili sin Carne, Köttbullar, Fisk, Pannkakor, Taco\".split(\",\")\r\n",
    "days = \"Må Ti On To Fr\".split() # split() per default on empty space \" \"\r\n",
    "\r\n",
    "menu = \"Veckomeny \\n\"\r\n",
    "\r\n",
    "for day, food in zip(days, bamba):\r\n",
    "    menu += f\"{day}: {food}\\n\"\r\n",
    "\r\n",
    "print(menu)\r\n"
   ],
   "outputs": [
    {
     "output_type": "stream",
     "name": "stdout",
     "text": [
      "Veckomeny \n",
      "Må: Chili sin Carne\n",
      "Ti:  Köttbullar\n",
      "On:  Fisk\n",
      "To:  Pannkakor\n",
      "Fr:  Taco\n",
      "\n"
     ]
    }
   ],
   "metadata": {}
  },
  {
   "cell_type": "markdown",
   "source": [
    "## Indexing\r\n",
    "\r\n",
    "- indexing with [] operator to access elements \r\n",
    "- slicing operator : "
   ],
   "metadata": {}
  },
  {
   "cell_type": "code",
   "execution_count": 57,
   "source": [
    "quote = \"!False - it´s funny because it´s True\" # works, note different enkelfnutt/dubbelfnutt\r\n",
    "quote = '!False - it´s funny because it´s True' # doesn´t work, apostrof ser att variabler blandat med str (använda båda \"\" '' så använder du (r-str))\r\n",
    "quote"
   ],
   "outputs": [
    {
     "output_type": "execute_result",
     "data": {
      "text/plain": [
       "'!False - it´s funny because it´s True'"
      ]
     },
     "metadata": {},
     "execution_count": 57
    }
   ],
   "metadata": {}
  },
  {
   "cell_type": "code",
   "execution_count": 67,
   "source": [
    "quote = \"!False - it´s funny because it´s True\"\r\n",
    "\r\n",
    "print(f\"quote[0] {quote[0]}\")\r\n",
    "print(f\"quote[-1] {quote[-1]}\")\r\n",
    "print(f\"quote[-4:] {quote[-4:]}\")\r\n",
    "print(f\"quote[1:6] {quote[1:6]}\") # [start:stop-1]\r\n",
    "print(f\"Backwards quote[::-1]: {quote[::-1]}\")  # [start:stop-1:step]"
   ],
   "outputs": [
    {
     "output_type": "stream",
     "name": "stdout",
     "text": [
      "quote[0] !\n",
      "quote[-1] e\n",
      "quote[-4:] True\n",
      "quote[1:6] False\n",
      "Backwards quote[::-1]: eurT s´ti esuaceb ynnuf s´ti - eslaF!\n"
     ]
    }
   ],
   "metadata": {}
  },
  {
   "cell_type": "markdown",
   "source": [
    "## Split strings"
   ],
   "metadata": {}
  },
  {
   "cell_type": "code",
   "execution_count": 80,
   "source": [
    "numbers = input(\"Ange några tal separerade med mellanslag: \").split() # data type is string\r\n",
    "\r\n",
    "\r\n",
    "print(numbers)"
   ],
   "outputs": [
    {
     "output_type": "stream",
     "name": "stdout",
     "text": [
      "['1', '2', '3', '4', '5', '6', '7']\n"
     ]
    }
   ],
   "metadata": {}
  },
  {
   "cell_type": "code",
   "execution_count": 86,
   "source": [
    "numbers = input(\"Ange några tal separerade med mellanslag: \").split()   # data type is string\r\n",
    "\r\n",
    "\r\n",
    "print(numbers[0]+numbers[1])  # string concatenation \"1 + 2 + 3 = 12\" \r\n"
   ],
   "outputs": [
    {
     "output_type": "stream",
     "name": "stdout",
     "text": [
      "12\n"
     ]
    }
   ],
   "metadata": {}
  },
  {
   "cell_type": "code",
   "execution_count": 93,
   "source": [
    "numbers = input(\"Ange några tal separerade med mellanslag: \").split()   # data type is string\r\n",
    "\r\n",
    "numbers = [float(number) for number in numbers if number.isdigit()]\r\n",
    "\r\n",
    "print(numbers)\r\n",
    "mean = sum(numbers)/len(numbers)\r\n",
    "print(f\"Medelvärdet är {mean}\")"
   ],
   "outputs": [
    {
     "output_type": "stream",
     "name": "stdout",
     "text": [
      "[1.0, 2.0, 3.0]\n",
      "Medelvärdet är 2.0\n"
     ]
    }
   ],
   "metadata": {}
  },
  {
   "cell_type": "markdown",
   "source": [
    "## Regular expression\r\n",
    "\r\n",
    "- find particular patterns in a string\r\n",
    "- e.g. phone numbers, personal numbers, emails... "
   ],
   "metadata": {}
  },
  {
   "cell_type": "code",
   "execution_count": 108,
   "source": [
    "import re \r\n",
    "\r\n",
    "text = \"Mitt telefonnummer är 021-432567, Adas telefonnummer är 041-414546, Bedas: 0739-231451\"\r\n",
    "\r\n",
    "match1 = re.findall(r\"\\d\\d\\d-\\d\\d\\d\\d\\d\\d\", text)\r\n",
    "print(match1)\r\n",
    "match2 = re.findall(r\"\\d{3}-\\d{6}\", text)\r\n",
    "print(match2)\r\n",
    "\r\n",
    "match3 = re.findall(r\"\\d{4}-\\d{6}\", text)\r\n",
    "print(match3)"
   ],
   "outputs": [
    {
     "output_type": "stream",
     "name": "stdout",
     "text": [
      "['021-432567', '041-414546', '739-231451']\n",
      "['021-432567', '041-414546', '739-231451']\n",
      "['0739-231451']\n"
     ]
    }
   ],
   "metadata": {}
  },
  {
   "cell_type": "code",
   "execution_count": 110,
   "source": [
    "import re  # Find all words ending with att \r\n",
    "\r\n",
    "text = \"Det var en gång en katt, som tog på dig en hatt, jag blev matt, så jag spelade schack och vann med skolmatt\"\r\n",
    "\r\n",
    "match = re.findall(r\".att\", text)\r\n",
    "print(match)\r\n",
    "\r\n",
    "match = re.findall(r\".en\", text)\r\n",
    "print(match)\r\n",
    "\r\n",
    "match = re.findall(r\".k\", text)\r\n",
    "print(match)\r\n",
    "\r\n",
    "match = re.findall(r\".så\", text)\r\n",
    "print(match)"
   ],
   "outputs": [
    {
     "output_type": "stream",
     "name": "stdout",
     "text": [
      "['katt', 'hatt', 'matt', 'matt']\n",
      "[' en', ' en', ' en']\n",
      "[' k', 'ck', 'sk']\n",
      "[' så']\n"
     ]
    }
   ],
   "metadata": {}
  }
 ],
 "metadata": {
  "orig_nbformat": 4,
  "language_info": {
   "name": "python",
   "version": "3.9.7",
   "mimetype": "text/x-python",
   "codemirror_mode": {
    "name": "ipython",
    "version": 3
   },
   "pygments_lexer": "ipython3",
   "nbconvert_exporter": "python",
   "file_extension": ".py"
  },
  "kernelspec": {
   "name": "python3",
   "display_name": "Python 3.9.7 64-bit ('Python-programming-Vincent-Joachim-BKkJ24Eb': pipenv)"
  },
  "interpreter": {
   "hash": "4404ca5b714758da0b1a48f743492510396e9184205edc8487f2cd102de0b5be"
  }
 },
 "nbformat": 4,
 "nbformat_minor": 2
}