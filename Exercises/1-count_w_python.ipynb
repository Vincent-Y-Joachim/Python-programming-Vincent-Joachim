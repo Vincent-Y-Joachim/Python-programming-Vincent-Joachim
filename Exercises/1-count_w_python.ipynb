{
 "cells": [
  {
   "cell_type": "markdown",
   "source": [
    "# Count with Python"
   ],
   "metadata": {}
  },
  {
   "cell_type": "code",
   "execution_count": 57,
   "source": [
    "# Pythagorean theorem (A)\r\n",
    "\r\n",
    "a = float(input('a: '))\r\n",
    "b = float(input('b: '))\r\n",
    "c = (a**2 + b**2) ** 0.5\r\n",
    "print(c)"
   ],
   "outputs": [
    {
     "output_type": "stream",
     "name": "stdout",
     "text": [
      "5.0\n"
     ]
    }
   ],
   "metadata": {}
  },
  {
   "cell_type": "code",
   "execution_count": 54,
   "source": [
    "# Pythagorean theorem (B)\r\n",
    "\r\n",
    "from math import hypot\r\n",
    "  \r\n",
    "# Perpendicular and base\r\n",
    "p = 7\r\n",
    "a = 5\r\n",
    "  \r\n",
    "# Calculates the hypotenuse\r\n",
    "print(\"Hypotenuse is:\", hypot(p, a))"
   ],
   "outputs": [
    {
     "output_type": "stream",
     "name": "stdout",
     "text": [
      "Hypotenuse is: 8.602325267042627\n"
     ]
    }
   ],
   "metadata": {}
  },
  {
   "cell_type": "code",
   "execution_count": null,
   "source": [
    "\r\n",
    "a = 365\r\n",
    "b = 300\r\n"
   ],
   "outputs": [],
   "metadata": {}
  },
  {
   "cell_type": "code",
   "execution_count": 91,
   "source": [
    "first = float(input(\"First: \"))\r\n",
    "second = float(input(\"Second: \"))\r\n",
    "\r\n",
    "sum = first + second\r\n",
    "print(\"Sum: \" + str(sum)"
   ],
   "outputs": [
    {
     "output_type": "stream",
     "name": "stdout",
     "text": [
      "Sum: 30.1\n"
     ]
    }
   ],
   "metadata": {}
  },
  {
   "cell_type": "code",
   "execution_count": 100,
   "source": [
    "course = 'Python for Beginners'\r\n",
    "print(course.find('Python'))\r\n",
    "print('Python' in course)\r\n"
   ],
   "outputs": [
    {
     "output_type": "stream",
     "name": "stdout",
     "text": [
      "0\n",
      "True\n"
     ]
    }
   ],
   "metadata": {}
  },
  {
   "cell_type": "code",
   "execution_count": 585,
   "source": [
    "print(10 ** 3)"
   ],
   "outputs": [
    {
     "output_type": "stream",
     "name": "stdout",
     "text": [
      "1000\n"
     ]
    }
   ],
   "metadata": {}
  },
  {
   "cell_type": "code",
   "execution_count": 590,
   "source": [
    "price = 5\r\n",
    "print(not price > 10) \r\n"
   ],
   "outputs": [
    {
     "output_type": "stream",
     "name": "stdout",
     "text": [
      "True\n"
     ]
    }
   ],
   "metadata": {}
  },
  {
   "cell_type": "code",
   "execution_count": 616,
   "source": [
    "temperture = 3\r\n",
    "\r\n",
    "if temperture > 30:\r\n",
    "    print(\"It's a hot day\")\r\n",
    "    print(\"Drink plenty of water\")\r\n",
    "elif temperture > 20:\r\n",
    "    print(\"IT's a nice day\")\r\n",
    "elif temperature > 10:\r\n",
    "    print(\"It's a bit cold\")\r\n",
    "\r\n",
    "else: \r\n",
    "    print(\"It's cold\")\r\n",
    "\r\n",
    "print(\"Done\")"
   ],
   "outputs": [
    {
     "output_type": "error",
     "ename": "NameError",
     "evalue": "name 'temperature' is not defined",
     "traceback": [
      "\u001b[1;31m---------------------------------------------------------------------------\u001b[0m",
      "\u001b[1;31mNameError\u001b[0m                                 Traceback (most recent call last)",
      "\u001b[1;32m~\\AppData\\Local\\Temp/ipykernel_9408/188843846.py\u001b[0m in \u001b[0;36m<module>\u001b[1;34m\u001b[0m\n\u001b[0;32m      6\u001b[0m \u001b[1;32melif\u001b[0m \u001b[0mtemperture\u001b[0m \u001b[1;33m>\u001b[0m \u001b[1;36m20\u001b[0m\u001b[1;33m:\u001b[0m\u001b[1;33m\u001b[0m\u001b[1;33m\u001b[0m\u001b[0m\n\u001b[0;32m      7\u001b[0m     \u001b[0mprint\u001b[0m\u001b[1;33m(\u001b[0m\u001b[1;34m\"IT's a nice day\"\u001b[0m\u001b[1;33m)\u001b[0m\u001b[1;33m\u001b[0m\u001b[1;33m\u001b[0m\u001b[0m\n\u001b[1;32m----> 8\u001b[1;33m \u001b[1;32melif\u001b[0m \u001b[0mtemperature\u001b[0m \u001b[1;33m>\u001b[0m \u001b[1;36m10\u001b[0m\u001b[1;33m:\u001b[0m\u001b[1;33m\u001b[0m\u001b[1;33m\u001b[0m\u001b[0m\n\u001b[0m\u001b[0;32m      9\u001b[0m     \u001b[0mprint\u001b[0m\u001b[1;33m(\u001b[0m\u001b[1;34m\"It's a bit cold\"\u001b[0m\u001b[1;33m)\u001b[0m\u001b[1;33m\u001b[0m\u001b[1;33m\u001b[0m\u001b[0m\n\u001b[0;32m     10\u001b[0m \u001b[1;33m\u001b[0m\u001b[0m\n",
      "\u001b[1;31mNameError\u001b[0m: name 'temperature' is not defined"
     ]
    }
   ],
   "metadata": {}
  },
  {
   "cell_type": "code",
   "execution_count": 630,
   "source": [
    "weight = int(input(\"Weight: \"))\r\n",
    "unit = input(\"(K)g or (L)bs: \")\r\n",
    "if unit.upper() == \"K\": \r\n",
    "    converted = weight / 0.45\r\n",
    "    print(\"Weight in Lbs: \" + str(converted))\r\n",
    "else: \r\n",
    "    converted = weight * 0.45\r\n",
    "    print(\"Weight in Kgs: \" + str(converted))\r\n",
    "\r\n"
   ],
   "outputs": [
    {
     "output_type": "stream",
     "name": "stdout",
     "text": [
      "Weight in Lbs: 144.44444444444443\n"
     ]
    }
   ],
   "metadata": {}
  },
  {
   "cell_type": "markdown",
   "source": [
    "# while loop"
   ],
   "metadata": {}
  },
  {
   "cell_type": "code",
   "execution_count": 677,
   "source": [
    "i = 1\r\n",
    "while i <= 10:\r\n",
    "    print(i)\r\n",
    "    i = i + 1"
   ],
   "outputs": [
    {
     "output_type": "stream",
     "name": "stdout",
     "text": [
      "1\n",
      "2\n",
      "3\n",
      "4\n",
      "5\n",
      "6\n",
      "7\n",
      "8\n",
      "9\n",
      "10\n"
     ]
    }
   ],
   "metadata": {}
  },
  {
   "cell_type": "code",
   "execution_count": 675,
   "source": [
    "i = 1\r\n",
    "while i <= 5:\r\n",
    "    print(i * '*')\r\n",
    "    i = i + 1"
   ],
   "outputs": [
    {
     "output_type": "stream",
     "name": "stdout",
     "text": [
      "*\n",
      "**\n",
      "***\n",
      "****\n",
      "*****\n"
     ]
    }
   ],
   "metadata": {}
  },
  {
   "cell_type": "markdown",
   "source": [
    "# List\r\n",
    " - 1 iniger \r\n",
    " - 1.1 floats\r\n",
    " - True = bolants\r\n",
    " - 'a' = strings "
   ],
   "metadata": {}
  },
  {
   "cell_type": "code",
   "execution_count": 649,
   "source": [
    "names = [\"John\", \"Bob\", \"Mosh\", \"Sam\", \"Mary\"]\r\n",
    "names[0] = \"Jon\" # if you wanna change the name of the person\r\n",
    "print(names[0:3]) # 0=Jon plug (3-1)= Mosh\r\n",
    "print(names)"
   ],
   "outputs": [
    {
     "output_type": "stream",
     "name": "stdout",
     "text": [
      "['Jon', 'Bob', 'Mosh']\n",
      "['Jon', 'Bob', 'Mosh', 'Sam', 'Mary']\n"
     ]
    }
   ],
   "metadata": {}
  },
  {
   "cell_type": "markdown",
   "source": [
    "## List methods\r\n"
   ],
   "metadata": {}
  },
  {
   "cell_type": "code",
   "execution_count": 652,
   "source": [
    "numbers = [1,2,3,4,5]\r\n",
    "numbers.append(6) #append metod is for adding to the list \r\n",
    "print(numbers)"
   ],
   "outputs": [
    {
     "output_type": "stream",
     "name": "stdout",
     "text": [
      "[1, 2, 3, 4, 5, 6]\n"
     ]
    }
   ],
   "metadata": {}
  },
  {
   "cell_type": "code",
   "execution_count": 654,
   "source": [
    "numbers = [1,2,3,4,5]\r\n",
    "numbers.insert(0, -1)\r\n",
    "print(numbers)"
   ],
   "outputs": [
    {
     "output_type": "stream",
     "name": "stdout",
     "text": [
      "[-1, 1, 2, 3, 4, 5]\n"
     ]
    }
   ],
   "metadata": {}
  },
  {
   "cell_type": "code",
   "execution_count": 655,
   "source": [
    "numbers = [1,2,3,4,5]\r\n",
    "numbers.remove(3) #remove an number\r\n",
    "print(numbers)"
   ],
   "outputs": [
    {
     "output_type": "stream",
     "name": "stdout",
     "text": [
      "[1, 2, 4, 5]\n"
     ]
    }
   ],
   "metadata": {}
  },
  {
   "cell_type": "code",
   "execution_count": 657,
   "source": [
    "numbers = [1,2,3,4,5]\r\n",
    "numbers.clear() #clears all in the number\r\n",
    "print(numbers)"
   ],
   "outputs": [
    {
     "output_type": "stream",
     "name": "stdout",
     "text": [
      "[]\n"
     ]
    }
   ],
   "metadata": {}
  },
  {
   "cell_type": "code",
   "execution_count": 661,
   "source": [
    "numbers = [1,2,3,4,5]\r\n",
    "print(1 in numbers) #bolian expresion and give bolian value"
   ],
   "outputs": [
    {
     "output_type": "stream",
     "name": "stdout",
     "text": [
      "True\n"
     ]
    }
   ],
   "metadata": {}
  },
  {
   "cell_type": "code",
   "execution_count": 663,
   "source": [
    "numbers = [1,2,3,4,5]\r\n",
    "print(len(numbers)) # len funktion how many ithems you have in a list"
   ],
   "outputs": [
    {
     "output_type": "stream",
     "name": "stdout",
     "text": [
      "5\n"
     ]
    }
   ],
   "metadata": {}
  },
  {
   "cell_type": "markdown",
   "source": [
    "## For loops"
   ],
   "metadata": {}
  },
  {
   "cell_type": "code",
   "execution_count": 689,
   "source": [
    "numbers = [1,2,3,4,5]\r\n",
    "for ithem in numbers: # with for lopp we can iderate over all the ithems in the list\r\n",
    "     print(ithem)\r\n",
    "\r\n",
    "i = 0\r\n",
    "while i < len(numbers): \r\n",
    "    print(numbers [i]) # the imprementation of for loops is shorter ans easier to understand\r\n",
    "    i = i + 1\r\n"
   ],
   "outputs": [
    {
     "output_type": "stream",
     "name": "stdout",
     "text": [
      "1\n",
      "2\n",
      "3\n",
      "4\n",
      "5\n",
      "1\n",
      "2\n",
      "3\n",
      "4\n",
      "5\n"
     ]
    }
   ],
   "metadata": {}
  },
  {
   "cell_type": "code",
   "execution_count": 916,
   "source": [
    "import random\r\n",
    "print(random.randrange(1,10))"
   ],
   "outputs": [
    {
     "output_type": "stream",
     "name": "stdout",
     "text": [
      "6\n"
     ]
    }
   ],
   "metadata": {}
  }
 ],
 "metadata": {
  "orig_nbformat": 4,
  "language_info": {
   "name": "python",
   "version": "3.9.7",
   "mimetype": "text/x-python",
   "codemirror_mode": {
    "name": "ipython",
    "version": 3
   },
   "pygments_lexer": "ipython3",
   "nbconvert_exporter": "python",
   "file_extension": ".py"
  },
  "kernelspec": {
   "name": "python3",
   "display_name": "Python 3.9.7 64-bit ('Python-programming-Vincent-Joachim-BKkJ24Eb': pipenv)"
  },
  "interpreter": {
   "hash": "4404ca5b714758da0b1a48f743492510396e9184205edc8487f2cd102de0b5be"
  }
 },
 "nbformat": 4,
 "nbformat_minor": 2
}