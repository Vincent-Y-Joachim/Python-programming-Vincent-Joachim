{
 "cells": [
  {
   "cell_type": "markdown",
   "source": [
    "# Lists\r\n",
    "\r\n",
    "- acess \r\n",
    "- slicess"
   ],
   "metadata": {}
  },
  {
   "cell_type": "code",
   "execution_count": 12,
   "source": [
    "tv_shows = [\"Antikrundan\",\"Mästerkockarns\", \"Aktuellt\", \"Talang\"]\r\n",
    "\r\n",
    "# access items - [] operator\r\n",
    "print(f\"tv_shows[0]: {tv_shows[0]}\")\r\n",
    "print(f\"tv_shows[1]: {tv_shows[1]}\")\r\n",
    "print(f\"tv_shows[-1]: {tv_shows[-1]}\")\r\n",
    "\r\n",
    "# slicing operator - : operator\r\n",
    "print(f\"tv_shows[:]: {tv_shows[:]}\")\r\n",
    "print(f\"tv_shows[1:]: {tv_shows[1:]}\") # starts in index 1 anf \"goes\" to the end\r\n",
    "print(f\"tv_shows[1:3]: {tv_shows[1:3]}\") # note [start:end-1]\r\n",
    "print(f\"Backwards tv_shows[::-1]: {tv_shows[::-1]}\") # [start:end-1:step]\r\n",
    "\r\n"
   ],
   "outputs": [
    {
     "output_type": "stream",
     "name": "stdout",
     "text": [
      "tv_shows[0]: Antikrundan\n",
      "tv_shows[1]: Mästerkockarns\n",
      "tv_shows[-1]: Talang\n",
      "tv_shows[:]: ['Antikrundan', 'Mästerkockarns', 'Aktuellt', 'Talang']\n",
      "tv_shows[1:]: ['Mästerkockarns', 'Aktuellt', 'Talang']\n",
      "tv_shows[1:3]: ['Mästerkockarns', 'Aktuellt']\n",
      "Backwards tv_shows[::-1]: ['Talang', 'Aktuellt', 'Mästerkockarns', 'Antikrundan']\n"
     ]
    }
   ],
   "metadata": {}
  },
  {
   "cell_type": "code",
   "execution_count": 17,
   "source": [
    "# change list items \r\n",
    "\r\n",
    "tv_shows = [\"Antikrundan\",\"Mästerkockarns\", \"Aktuellt\", \"Talang\"] \r\n",
    "tv_shows [0] = \"Veteskapens värld\"\r\n",
    "\r\n",
    "print(tv_shows)\r\n",
    "\r\n",
    "# add an item to the list \r\n",
    "\r\n",
    "tv_shows.append(\"Go kväll\") # append object to the end of the list. \r\n",
    "print(tv_shows)\r\n"
   ],
   "outputs": [
    {
     "output_type": "stream",
     "name": "stdout",
     "text": [
      "['Veteskapens värld', 'Mästerkockarns', 'Aktuellt', 'Talang']\n",
      "['Veteskapens värld', 'Mästerkockarns', 'Aktuellt', 'Talang', 'Go kväll']\n"
     ]
    }
   ],
   "metadata": {}
  },
  {
   "cell_type": "markdown",
   "source": [
    "## Iterate through lists"
   ],
   "metadata": {}
  },
  {
   "cell_type": "code",
   "execution_count": 25,
   "source": [
    "for tv_show in tv_shows: \r\n",
    "    print(tv_show)"
   ],
   "outputs": [
    {
     "output_type": "stream",
     "name": "stdout",
     "text": [
      "Antikrundan\n",
      "Mästerkockarns\n",
      "Aktuellt\n",
      "Talang\n"
     ]
    }
   ],
   "metadata": {}
  },
  {
   "cell_type": "code",
   "execution_count": 27,
   "source": [
    "print(\"Tv Tablå\")\r\n",
    "for i, tv_show in enumerate(tv_shows): \r\n",
    "    print(f\"{i}: {tv_show}\")"
   ],
   "outputs": [
    {
     "output_type": "stream",
     "name": "stdout",
     "text": [
      "Tv Tablå\n",
      "0: Antikrundan\n",
      "1: Mästerkockarns\n",
      "2: Aktuellt\n",
      "3: Talang\n"
     ]
    }
   ],
   "metadata": {}
  },
  {
   "cell_type": "code",
   "execution_count": 3,
   "source": [
    "# list of cubes \r\n",
    "\r\n",
    "cubes = []\r\n",
    "for i in range(10):\r\n",
    "    cubes.append(i**3)\r\n",
    "\r\n",
    "print(cubes)"
   ],
   "outputs": [
    {
     "output_type": "stream",
     "name": "stdout",
     "text": [
      "[0, 1, 8, 27, 64, 125, 216, 343, 512, 729]\n"
     ]
    }
   ],
   "metadata": {}
  },
  {
   "cell_type": "code",
   "execution_count": 9,
   "source": [
    "# list comprehensions \r\n",
    "\r\n",
    "cubes2 = [x**3 for x in range(10)]\r\n",
    "print(cubes2)"
   ],
   "outputs": [
    {
     "output_type": "stream",
     "name": "stdout",
     "text": [
      "[0, 1, 8, 27, 64, 125, 216, 343, 512, 729]\n"
     ]
    }
   ],
   "metadata": {}
  },
  {
   "cell_type": "code",
   "execution_count": 160,
   "source": [
    "# cube every even number - list comprehension with if-statement inside\r\n",
    "\r\n",
    "cubes_even = [x**3 for x in range(10) if x%2==0]\r\n",
    "print(cubes_even)"
   ],
   "outputs": [
    {
     "output_type": "stream",
     "name": "stdout",
     "text": [
      "[0, 8, 64, 216, 512]\n"
     ]
    }
   ],
   "metadata": {}
  },
  {
   "cell_type": "code",
   "execution_count": 139,
   "source": [
    "import random as rnd \r\n",
    "\r\n",
    "dices = [rnd.randint(1,6) for _ in range(10)] \r\n",
    "print(dices)\r\n",
    "dices.sort() # returns None sorterar \r\n",
    "print(dices)"
   ],
   "outputs": [
    {
     "output_type": "stream",
     "name": "stdout",
     "text": [
      "[2, 1, 6, 4, 5, 5, 2, 4, 3, 6]\n",
      "[1, 2, 2, 3, 4, 4, 5, 5, 6, 6]\n"
     ]
    }
   ],
   "metadata": {}
  },
  {
   "cell_type": "code",
   "execution_count": 147,
   "source": [
    "tv_shows = ['Veteskapens värld', 'Mästerkockarns', 'Aktuellt', 'Talang', 'Go kväll', \"Äta\"]\r\n",
    "print(tv_shows)\r\n",
    "\r\n",
    "tv_shows.sort()\r\n",
    "print(tv_shows)"
   ],
   "outputs": [
    {
     "output_type": "stream",
     "name": "stdout",
     "text": [
      "['Veteskapens värld', 'Mästerkockarns', 'Aktuellt', 'Talang', 'Go kväll', 'Äta']\n",
      "['Aktuellt', 'Go kväll', 'Mästerkockarns', 'Talang', 'Veteskapens värld', 'Äta']\n"
     ]
    }
   ],
   "metadata": {}
  },
  {
   "cell_type": "code",
   "execution_count": 149,
   "source": [
    "tv_shows = ['Veteskapens värld', '1.Mästerkockarns', 'Aktuellt', 'Talang', 'Go kväll', \"Äta\"]\r\n",
    "print(tv_shows)\r\n",
    "\r\n",
    "tv_shows.sort() # sort works for digits, works for str, but not a mix of data types \r\n",
    "print(tv_shows)\r\n",
    "\r\n",
    "tv_shows.sort(reverse=True)\r\n",
    "print(tv_shows)"
   ],
   "outputs": [
    {
     "output_type": "stream",
     "name": "stdout",
     "text": [
      "['Veteskapens värld', '1.Mästerkockarns', 'Aktuellt', 'Talang', 'Go kväll', 'Äta']\n",
      "['1.Mästerkockarns', 'Aktuellt', 'Go kväll', 'Talang', 'Veteskapens värld', 'Äta']\n",
      "['Äta', 'Veteskapens värld', 'Talang', 'Go kväll', 'Aktuellt', '1.Mästerkockarns']\n"
     ]
    }
   ],
   "metadata": {}
  },
  {
   "cell_type": "code",
   "execution_count": 158,
   "source": [
    "example_tuple = (1,2,3)\r\n",
    "example_tuple[2] = 5"
   ],
   "outputs": [
    {
     "output_type": "error",
     "ename": "TypeError",
     "evalue": "'tuple' object does not support item assignment",
     "traceback": [
      "\u001b[1;31m---------------------------------------------------------------------------\u001b[0m",
      "\u001b[1;31mTypeError\u001b[0m                                 Traceback (most recent call last)",
      "\u001b[1;32m~\\AppData\\Local\\Temp/ipykernel_6684/2379984724.py\u001b[0m in \u001b[0;36m<module>\u001b[1;34m\u001b[0m\n\u001b[0;32m      1\u001b[0m \u001b[0mexample_tuple\u001b[0m \u001b[1;33m=\u001b[0m \u001b[1;33m(\u001b[0m\u001b[1;36m1\u001b[0m\u001b[1;33m,\u001b[0m\u001b[1;36m2\u001b[0m\u001b[1;33m,\u001b[0m\u001b[1;36m3\u001b[0m\u001b[1;33m)\u001b[0m\u001b[1;33m\u001b[0m\u001b[1;33m\u001b[0m\u001b[0m\n\u001b[1;32m----> 2\u001b[1;33m \u001b[0mexample_tuple\u001b[0m\u001b[1;33m[\u001b[0m\u001b[1;36m2\u001b[0m\u001b[1;33m]\u001b[0m \u001b[1;33m=\u001b[0m \u001b[1;36m5\u001b[0m\u001b[1;33m\u001b[0m\u001b[1;33m\u001b[0m\u001b[0m\n\u001b[0m",
      "\u001b[1;31mTypeError\u001b[0m: 'tuple' object does not support item assignment"
     ]
    }
   ],
   "metadata": {}
  },
  {
   "cell_type": "code",
   "execution_count": 159,
   "source": [
    "# list in a list \r\n",
    "\r\n",
    "grades = [[\"A\", 30], [\"B\", 25], [\"C\", 20]]\r\n",
    "print(f\"grades[1]: {grades[1]}\")\r\n",
    "print(f\"grades[1][0]: Betyg {grades[1][0]}\")"
   ],
   "outputs": [
    {
     "output_type": "stream",
     "name": "stdout",
     "text": [
      "grades[1]: ['B', 25]\n",
      "grades[1][0]: Betyg B\n"
     ]
    }
   ],
   "metadata": {}
  }
 ],
 "metadata": {
  "orig_nbformat": 4,
  "language_info": {
   "name": "python",
   "version": "3.9.7",
   "mimetype": "text/x-python",
   "codemirror_mode": {
    "name": "ipython",
    "version": 3
   },
   "pygments_lexer": "ipython3",
   "nbconvert_exporter": "python",
   "file_extension": ".py"
  },
  "kernelspec": {
   "name": "python3",
   "display_name": "Python 3.9.7 64-bit ('Python-programming-Vincent-Joachim-BKkJ24Eb': pipenv)"
  },
  "interpreter": {
   "hash": "4404ca5b714758da0b1a48f743492510396e9184205edc8487f2cd102de0b5be"
  }
 },
 "nbformat": 4,
 "nbformat_minor": 2
}